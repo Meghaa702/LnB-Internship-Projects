{
 "cells": [
  {
   "cell_type": "code",
   "execution_count": 1,
   "id": "b2621f45",
   "metadata": {},
   "outputs": [],
   "source": [
    "students = []  \n",
    "\n",
    "def accept_students():\n",
    "    name = input(\"Enter student name: \")\n",
    "    roll_no = input(\"Enter student roll number: \")\n",
    "    marks1 = float(input(\"Enter marks for subject 1: \"))\n",
    "    marks2 = float(input(\"Enter marks for subject 2: \"))\n",
    "\n",
    "    student = {\n",
    "        \"name\": name,\n",
    "        \"roll_no\": roll_no,\n",
    "        \"marks1\": marks1,\n",
    "        \"marks2\": marks2\n",
    "    }\n",
    "\n",
    "    students.append(student)\n",
    "    print(\"Student data accepted.\")\n",
    "\n",
    "def display_students():\n",
    "    if not students:\n",
    "        print(\"No student data available.\")\n",
    "        return\n",
    "\n",
    "    print(\"Student Data:\")\n",
    "    for student in students:\n",
    "        print(\"Name:\", student[\"name\"])\n",
    "        print(\"Roll Number:\", student[\"roll_no\"])\n",
    "        print(\"Marks 1:\", student[\"marks1\"])\n",
    "        print(\"Marks 2:\", student[\"marks2\"])\n",
    "        print()\n",
    "\n",
    "def search_student_by_name(name):\n",
    "    found_students = []\n",
    "    for student in students:\n",
    "        if student[\"name\"].lower() == name.lower():\n",
    "            found_students.append(student)\n",
    "\n",
    "    if not found_students:\n",
    "        print(\"No student with the given name found.\")\n",
    "        return\n",
    "\n",
    "    print(\"Student(s) Found:\")\n",
    "    for student in found_students:\n",
    "        print(\"Name:\", student[\"name\"])\n",
    "        print(\"Roll Number:\", student[\"roll_no\"])\n",
    "        print(\"Marks 1:\", student[\"marks1\"])\n",
    "        print(\"Marks 2:\", student[\"marks2\"])\n",
    "        print()\n",
    "\n",
    "def delete_student(roll_number):\n",
    "    for student in students:\n",
    "        if student[\"roll_no\"] == roll_number:\n",
    "            students.remove(student)\n",
    "            print(\"Student data deleted successfully.\")\n",
    "            return\n",
    "\n",
    "    print(\"No student with the given roll number found.\")\n",
    "\n",
    "def update_student(roll_number):\n",
    "    for student in students:\n",
    "        if student[\"roll_no\"] == roll_number:\n",
    "            print(\"Enter updated details for the student:\")\n",
    "            student[\"name\"] = input(\"Enter updated name: \")\n",
    "            student[\"roll_no\"] = input(\"Enter updated roll number: \")\n",
    "            student[\"marks1\"] = float(input(\"Enter updated marks for subject 1: \"))\n",
    "            student[\"marks2\"] = float(input(\"Enter updated marks for subject 2: \"))\n",
    "            print(\"Student data updated successfully.\")\n",
    "            return\n",
    "\n",
    "    print(\"No student with the given roll number found.\")\n"
   ]
  },
  {
   "cell_type": "code",
   "execution_count": 2,
   "id": "5a319264",
   "metadata": {},
   "outputs": [
    {
     "name": "stdout",
     "output_type": "stream",
     "text": [
      "Enter student name: ipsita\n",
      "Enter student roll number: 101\n",
      "Enter marks for subject 1: 99\n",
      "Enter marks for subject 2: 98\n",
      "Student data accepted.\n"
     ]
    }
   ],
   "source": [
    "accept_students()"
   ]
  },
  {
   "cell_type": "code",
   "execution_count": 3,
   "id": "140fb65e",
   "metadata": {},
   "outputs": [
    {
     "name": "stdout",
     "output_type": "stream",
     "text": [
      "Enter student name: megha\n",
      "Enter student roll number: 102\n",
      "Enter marks for subject 1: 96\n",
      "Enter marks for subject 2: 95\n",
      "Student data accepted.\n"
     ]
    }
   ],
   "source": [
    "accept_students()"
   ]
  },
  {
   "cell_type": "code",
   "execution_count": 4,
   "id": "e765aa81",
   "metadata": {},
   "outputs": [
    {
     "name": "stdout",
     "output_type": "stream",
     "text": [
      "Student Data:\n",
      "Name: ipsita\n",
      "Roll Number: 101\n",
      "Marks 1: 99.0\n",
      "Marks 2: 98.0\n",
      "\n",
      "Name: megha\n",
      "Roll Number: 102\n",
      "Marks 1: 96.0\n",
      "Marks 2: 95.0\n",
      "\n"
     ]
    }
   ],
   "source": [
    "display_students()"
   ]
  },
  {
   "cell_type": "code",
   "execution_count": 5,
   "id": "ea97c7e2",
   "metadata": {},
   "outputs": [
    {
     "name": "stdout",
     "output_type": "stream",
     "text": [
      "Student(s) Found:\n",
      "Name: megha\n",
      "Roll Number: 102\n",
      "Marks 1: 96.0\n",
      "Marks 2: 95.0\n",
      "\n"
     ]
    }
   ],
   "source": [
    "search_student_by_name(\"megha\")"
   ]
  },
  {
   "cell_type": "code",
   "execution_count": 6,
   "id": "9b828c04",
   "metadata": {},
   "outputs": [
    {
     "name": "stdout",
     "output_type": "stream",
     "text": [
      "Student data deleted successfully.\n"
     ]
    }
   ],
   "source": [
    "delete_student(\"102\")"
   ]
  },
  {
   "cell_type": "code",
   "execution_count": 7,
   "id": "9f69c66d",
   "metadata": {},
   "outputs": [
    {
     "name": "stdout",
     "output_type": "stream",
     "text": [
      "Enter updated details for the student:\n",
      "Enter updated name: ipsita mishra\n",
      "Enter updated roll number: 101\n",
      "Enter updated marks for subject 1: 99\n",
      "Enter updated marks for subject 2: 98\n",
      "Student data updated successfully.\n"
     ]
    }
   ],
   "source": [
    "update_student(\"101\")"
   ]
  },
  {
   "cell_type": "code",
   "execution_count": 8,
   "id": "7f019b40",
   "metadata": {},
   "outputs": [
    {
     "name": "stdout",
     "output_type": "stream",
     "text": [
      "Student Data:\n",
      "Name: ipsita mishra\n",
      "Roll Number: 101\n",
      "Marks 1: 99.0\n",
      "Marks 2: 98.0\n",
      "\n"
     ]
    }
   ],
   "source": [
    "display_students()"
   ]
  },
  {
   "cell_type": "code",
   "execution_count": null,
   "id": "64de9dbd",
   "metadata": {},
   "outputs": [],
   "source": []
  }
 ],
 "metadata": {
  "kernelspec": {
   "display_name": "Python 3 (ipykernel)",
   "language": "python",
   "name": "python3"
  },
  "language_info": {
   "codemirror_mode": {
    "name": "ipython",
    "version": 3
   },
   "file_extension": ".py",
   "mimetype": "text/x-python",
   "name": "python",
   "nbconvert_exporter": "python",
   "pygments_lexer": "ipython3",
   "version": "3.11.3"
  }
 },
 "nbformat": 4,
 "nbformat_minor": 5
}
